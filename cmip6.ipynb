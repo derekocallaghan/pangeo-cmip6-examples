{
 "cells": [
  {
   "cell_type": "markdown",
   "metadata": {},
   "source": [
    "# CMIP6 Precipitation Frequency Analysis Example\n",
    "\n",
    "This notebook shows an advanced analysis case. The calculation was inspired by [Angie Pendergrass](https://staff.ucar.edu/users/apgrass)’s work on precipitation statistics, as described in the following websites / papers:\n",
    "- https://journals.ametsoc.org/doi/full/10.1175/JCLI-D-16-0684.1\n",
    "- https://climatedataguide.ucar.edu/climate-data/gpcp-daily-global-precipitation-climatology-project\n",
    "\n",
    "We use [xhistogram](https://xhistogram.readthedocs.io/) to calculate the distribution of precipitation intensity and its changes in a warming climate."
   ]
  },
  {
   "cell_type": "code",
   "execution_count": 1,
   "metadata": {},
   "outputs": [
    {
     "name": "stderr",
     "output_type": "stream",
     "text": [
      "/srv/conda/envs/notebook/lib/python3.7/site-packages/ipykernel_launcher.py:7: TqdmExperimentalWarning: Using `tqdm.autonotebook.tqdm` in notebook mode. Use `tqdm.tqdm` instead to force console mode (e.g. in jupyter console)\n",
      "  import sys\n"
     ]
    }
   ],
   "source": [
    "import os\n",
    "from matplotlib import pyplot as plt\n",
    "import numpy as np\n",
    "import pandas as pd\n",
    "import xarray as xr\n",
    "import gcsfs\n",
    "from tqdm.autonotebook import tqdm\n",
    "\n",
    "from xhistogram.xarray import histogram\n",
    "\n",
    "%matplotlib inline\n",
    "plt.rcParams['figure.figsize'] = 12, 6\n",
    "%config InlineBackend.figure_format = 'retina' "
   ]
  },
  {
   "cell_type": "markdown",
   "metadata": {},
   "source": [
    "We assume this notebook is running in a Pangeo environment with the ability to create [Dask Kubernetes](https://kubernetes.dask.org/en/latest/) distributed clusters for processing. If that's not the case, simply skip the cell below. The analysis will go a lot slower but will hopefully still work."
   ]
  },
  {
   "cell_type": "code",
   "execution_count": 2,
   "metadata": {},
   "outputs": [
    {
     "data": {
      "text/html": [
       "<table style=\"border: 2px solid white;\">\n",
       "<tr>\n",
       "<td style=\"vertical-align: top; border: 0px solid white\">\n",
       "<h3 style=\"text-align: left;\">Client</h3>\n",
       "<ul style=\"text-align: left; list-style: none; margin: 0; padding: 0;\">\n",
       "  <li><b>Scheduler: </b>tcp://10.48.2.36:35307</li>\n",
       "  <li><b>Dashboard: </b><a href='/user/pangeo-data-pan--cmip6-examples-sps0lyi7/proxy/8787/status' target='_blank'>/user/pangeo-data-pan--cmip6-examples-sps0lyi7/proxy/8787/status</a>\n",
       "</ul>\n",
       "</td>\n",
       "<td style=\"vertical-align: top; border: 0px solid white\">\n",
       "<h3 style=\"text-align: left;\">Cluster</h3>\n",
       "<ul style=\"text-align: left; list-style:none; margin: 0; padding: 0;\">\n",
       "  <li><b>Workers: </b>0</li>\n",
       "  <li><b>Cores: </b>0</li>\n",
       "  <li><b>Memory: </b>0 B</li>\n",
       "</ul>\n",
       "</td>\n",
       "</tr>\n",
       "</table>"
      ],
      "text/plain": [
       "<Client: 'tcp://10.48.2.36:35307' processes=0 threads=0, memory=0 B>"
      ]
     },
     "execution_count": 2,
     "metadata": {},
     "output_type": "execute_result"
    }
   ],
   "source": [
    "from dask.distributed import Client\n",
    "from dask_kubernetes import KubeCluster\n",
    "\n",
    "cluster = KubeCluster()\n",
    "cluster.adapt(minimum=1, maximum=10, interval='2s')\n",
    "client = Client(cluster)\n",
    "client"
   ]
  },
  {
   "cell_type": "markdown",
   "metadata": {},
   "source": [
    "Here we search for all 3-hourly precipitation fields."
   ]
  },
  {
   "cell_type": "code",
   "execution_count": 3,
   "metadata": {},
   "outputs": [
    {
     "data": {
      "text/html": [
       "<div>\n",
       "<style scoped>\n",
       "    .dataframe tbody tr th:only-of-type {\n",
       "        vertical-align: middle;\n",
       "    }\n",
       "\n",
       "    .dataframe tbody tr th {\n",
       "        vertical-align: top;\n",
       "    }\n",
       "\n",
       "    .dataframe thead th {\n",
       "        text-align: right;\n",
       "    }\n",
       "</style>\n",
       "<table border=\"1\" class=\"dataframe\">\n",
       "  <thead>\n",
       "    <tr style=\"text-align: right;\">\n",
       "      <th></th>\n",
       "      <th>activity_id</th>\n",
       "      <th>institution_id</th>\n",
       "      <th>source_id</th>\n",
       "      <th>experiment_id</th>\n",
       "      <th>member_id</th>\n",
       "      <th>table_id</th>\n",
       "      <th>variable_id</th>\n",
       "      <th>grid_label</th>\n",
       "      <th>zstore</th>\n",
       "      <th>dcpp_init_year</th>\n",
       "      <th>version</th>\n",
       "    </tr>\n",
       "  </thead>\n",
       "  <tbody>\n",
       "    <tr>\n",
       "      <th>0</th>\n",
       "      <td>AerChemMIP</td>\n",
       "      <td>AS-RCEC</td>\n",
       "      <td>TaiESM1</td>\n",
       "      <td>histSST</td>\n",
       "      <td>r1i1p1f1</td>\n",
       "      <td>AERmon</td>\n",
       "      <td>od550aer</td>\n",
       "      <td>gn</td>\n",
       "      <td>gs://cmip6/AerChemMIP/AS-RCEC/TaiESM1/histSST/...</td>\n",
       "      <td>NaN</td>\n",
       "      <td>20200310</td>\n",
       "    </tr>\n",
       "    <tr>\n",
       "      <th>1</th>\n",
       "      <td>AerChemMIP</td>\n",
       "      <td>BCC</td>\n",
       "      <td>BCC-ESM1</td>\n",
       "      <td>histSST</td>\n",
       "      <td>r1i1p1f1</td>\n",
       "      <td>AERmon</td>\n",
       "      <td>mmrbc</td>\n",
       "      <td>gn</td>\n",
       "      <td>gs://cmip6/AerChemMIP/BCC/BCC-ESM1/histSST/r1i...</td>\n",
       "      <td>NaN</td>\n",
       "      <td>20190718</td>\n",
       "    </tr>\n",
       "    <tr>\n",
       "      <th>2</th>\n",
       "      <td>AerChemMIP</td>\n",
       "      <td>BCC</td>\n",
       "      <td>BCC-ESM1</td>\n",
       "      <td>histSST</td>\n",
       "      <td>r1i1p1f1</td>\n",
       "      <td>AERmon</td>\n",
       "      <td>mmrdust</td>\n",
       "      <td>gn</td>\n",
       "      <td>gs://cmip6/AerChemMIP/BCC/BCC-ESM1/histSST/r1i...</td>\n",
       "      <td>NaN</td>\n",
       "      <td>20191127</td>\n",
       "    </tr>\n",
       "    <tr>\n",
       "      <th>3</th>\n",
       "      <td>AerChemMIP</td>\n",
       "      <td>BCC</td>\n",
       "      <td>BCC-ESM1</td>\n",
       "      <td>histSST</td>\n",
       "      <td>r1i1p1f1</td>\n",
       "      <td>AERmon</td>\n",
       "      <td>mmroa</td>\n",
       "      <td>gn</td>\n",
       "      <td>gs://cmip6/AerChemMIP/BCC/BCC-ESM1/histSST/r1i...</td>\n",
       "      <td>NaN</td>\n",
       "      <td>20190809</td>\n",
       "    </tr>\n",
       "    <tr>\n",
       "      <th>4</th>\n",
       "      <td>AerChemMIP</td>\n",
       "      <td>BCC</td>\n",
       "      <td>BCC-ESM1</td>\n",
       "      <td>histSST</td>\n",
       "      <td>r1i1p1f1</td>\n",
       "      <td>AERmon</td>\n",
       "      <td>mmrso4</td>\n",
       "      <td>gn</td>\n",
       "      <td>gs://cmip6/AerChemMIP/BCC/BCC-ESM1/histSST/r1i...</td>\n",
       "      <td>NaN</td>\n",
       "      <td>20191127</td>\n",
       "    </tr>\n",
       "  </tbody>\n",
       "</table>\n",
       "</div>"
      ],
      "text/plain": [
       "  activity_id institution_id source_id experiment_id member_id table_id  \\\n",
       "0  AerChemMIP        AS-RCEC   TaiESM1       histSST  r1i1p1f1   AERmon   \n",
       "1  AerChemMIP            BCC  BCC-ESM1       histSST  r1i1p1f1   AERmon   \n",
       "2  AerChemMIP            BCC  BCC-ESM1       histSST  r1i1p1f1   AERmon   \n",
       "3  AerChemMIP            BCC  BCC-ESM1       histSST  r1i1p1f1   AERmon   \n",
       "4  AerChemMIP            BCC  BCC-ESM1       histSST  r1i1p1f1   AERmon   \n",
       "\n",
       "  variable_id grid_label                                             zstore  \\\n",
       "0    od550aer         gn  gs://cmip6/AerChemMIP/AS-RCEC/TaiESM1/histSST/...   \n",
       "1       mmrbc         gn  gs://cmip6/AerChemMIP/BCC/BCC-ESM1/histSST/r1i...   \n",
       "2     mmrdust         gn  gs://cmip6/AerChemMIP/BCC/BCC-ESM1/histSST/r1i...   \n",
       "3       mmroa         gn  gs://cmip6/AerChemMIP/BCC/BCC-ESM1/histSST/r1i...   \n",
       "4      mmrso4         gn  gs://cmip6/AerChemMIP/BCC/BCC-ESM1/histSST/r1i...   \n",
       "\n",
       "   dcpp_init_year   version  \n",
       "0             NaN  20200310  \n",
       "1             NaN  20190718  \n",
       "2             NaN  20191127  \n",
       "3             NaN  20190809  \n",
       "4             NaN  20191127  "
      ]
     },
     "execution_count": 3,
     "metadata": {},
     "output_type": "execute_result"
    },
    {
     "name": "stderr",
     "output_type": "stream",
     "text": [
      "Task exception was never retrieved\n",
      "future: <Task finished coro=<_wrap_awaitable() done, defined at /srv/conda/envs/notebook/lib/python3.7/asyncio/tasks.py:596> exception=AssertionError()>\n",
      "Traceback (most recent call last):\n",
      "  File \"/srv/conda/envs/notebook/lib/python3.7/asyncio/tasks.py\", line 603, in _wrap_awaitable\n",
      "    return (yield from awaitable.__await__())\n",
      "  File \"/srv/conda/envs/notebook/lib/python3.7/site-packages/distributed/deploy/spec.py\", line 42, in _\n",
      "    assert self.status == \"running\"\n",
      "AssertionError\n",
      "tornado.application - ERROR - Exception in callback functools.partial(<bound method IOLoop._discard_future_result of <zmq.eventloop.ioloop.ZMQIOLoop object at 0x7f9430f4b0b8>>, <Task finished coro=<SpecCluster._correct_state_internal() done, defined at /srv/conda/envs/notebook/lib/python3.7/site-packages/distributed/deploy/spec.py:284> exception=AssertionError()>)\n",
      "Traceback (most recent call last):\n",
      "  File \"/srv/conda/envs/notebook/lib/python3.7/site-packages/tornado/ioloop.py\", line 743, in _run_callback\n",
      "    ret = callback()\n",
      "  File \"/srv/conda/envs/notebook/lib/python3.7/site-packages/tornado/ioloop.py\", line 767, in _discard_future_result\n",
      "    future.result()\n",
      "  File \"/srv/conda/envs/notebook/lib/python3.7/site-packages/distributed/deploy/spec.py\", line 317, in _correct_state_internal\n",
      "    await w  # for tornado gen.coroutine support\n",
      "  File \"/srv/conda/envs/notebook/lib/python3.7/site-packages/distributed/deploy/spec.py\", line 42, in _\n",
      "    assert self.status == \"running\"\n",
      "AssertionError\n",
      "Task exception was never retrieved\n",
      "future: <Task finished coro=<_wrap_awaitable() done, defined at /srv/conda/envs/notebook/lib/python3.7/asyncio/tasks.py:596> exception=AssertionError()>\n",
      "Traceback (most recent call last):\n",
      "  File \"/srv/conda/envs/notebook/lib/python3.7/asyncio/tasks.py\", line 603, in _wrap_awaitable\n",
      "    return (yield from awaitable.__await__())\n",
      "  File \"/srv/conda/envs/notebook/lib/python3.7/site-packages/distributed/deploy/spec.py\", line 42, in _\n",
      "    assert self.status == \"running\"\n",
      "AssertionError\n",
      "tornado.application - ERROR - Exception in callback functools.partial(<bound method IOLoop._discard_future_result of <zmq.eventloop.ioloop.ZMQIOLoop object at 0x7f9430f4b0b8>>, <Task finished coro=<AdaptiveCore.adapt() done, defined at /srv/conda/envs/notebook/lib/python3.7/site-packages/distributed/deploy/adaptive_core.py:170> exception=AssertionError()>)\n",
      "Traceback (most recent call last):\n",
      "  File \"/srv/conda/envs/notebook/lib/python3.7/site-packages/tornado/ioloop.py\", line 743, in _run_callback\n",
      "    ret = callback()\n",
      "  File \"/srv/conda/envs/notebook/lib/python3.7/site-packages/tornado/ioloop.py\", line 767, in _discard_future_result\n",
      "    future.result()\n",
      "  File \"/srv/conda/envs/notebook/lib/python3.7/site-packages/distributed/deploy/adaptive_core.py\", line 183, in adapt\n",
      "    recommendations = await self.recommendations(target)\n",
      "  File \"/srv/conda/envs/notebook/lib/python3.7/site-packages/distributed/deploy/adaptive.py\", line 121, in recommendations\n",
      "    await self.cluster\n",
      "  File \"/srv/conda/envs/notebook/lib/python3.7/site-packages/distributed/deploy/spec.py\", line 348, in _\n",
      "    await self._correct_state()\n",
      "  File \"/srv/conda/envs/notebook/lib/python3.7/site-packages/distributed/deploy/spec.py\", line 317, in _correct_state_internal\n",
      "    await w  # for tornado gen.coroutine support\n",
      "  File \"/srv/conda/envs/notebook/lib/python3.7/site-packages/distributed/deploy/spec.py\", line 42, in _\n",
      "    assert self.status == \"running\"\n",
      "AssertionError\n",
      "Task exception was never retrieved\n",
      "future: <Task finished coro=<_wrap_awaitable() done, defined at /srv/conda/envs/notebook/lib/python3.7/asyncio/tasks.py:596> exception=AssertionError()>\n",
      "Traceback (most recent call last):\n",
      "  File \"/srv/conda/envs/notebook/lib/python3.7/asyncio/tasks.py\", line 603, in _wrap_awaitable\n",
      "    return (yield from awaitable.__await__())\n",
      "  File \"/srv/conda/envs/notebook/lib/python3.7/site-packages/distributed/deploy/spec.py\", line 42, in _\n",
      "    assert self.status == \"running\"\n",
      "AssertionError\n",
      "tornado.application - ERROR - Exception in callback functools.partial(<bound method IOLoop._discard_future_result of <zmq.eventloop.ioloop.ZMQIOLoop object at 0x7f9430f4b0b8>>, <Task finished coro=<AdaptiveCore.adapt() done, defined at /srv/conda/envs/notebook/lib/python3.7/site-packages/distributed/deploy/adaptive_core.py:170> exception=AssertionError()>)\n",
      "Traceback (most recent call last):\n",
      "  File \"/srv/conda/envs/notebook/lib/python3.7/site-packages/tornado/ioloop.py\", line 743, in _run_callback\n",
      "    ret = callback()\n",
      "  File \"/srv/conda/envs/notebook/lib/python3.7/site-packages/tornado/ioloop.py\", line 767, in _discard_future_result\n",
      "    future.result()\n",
      "  File \"/srv/conda/envs/notebook/lib/python3.7/site-packages/distributed/deploy/adaptive_core.py\", line 183, in adapt\n",
      "    recommendations = await self.recommendations(target)\n",
      "  File \"/srv/conda/envs/notebook/lib/python3.7/site-packages/distributed/deploy/adaptive.py\", line 121, in recommendations\n",
      "    await self.cluster\n",
      "  File \"/srv/conda/envs/notebook/lib/python3.7/site-packages/distributed/deploy/spec.py\", line 348, in _\n",
      "    await self._correct_state()\n",
      "  File \"/srv/conda/envs/notebook/lib/python3.7/site-packages/distributed/deploy/spec.py\", line 317, in _correct_state_internal\n",
      "    await w  # for tornado gen.coroutine support\n",
      "  File \"/srv/conda/envs/notebook/lib/python3.7/site-packages/distributed/deploy/spec.py\", line 42, in _\n",
      "    assert self.status == \"running\"\n",
      "AssertionError\n",
      "Task exception was never retrieved\n",
      "future: <Task finished coro=<_wrap_awaitable() done, defined at /srv/conda/envs/notebook/lib/python3.7/asyncio/tasks.py:596> exception=AssertionError()>\n",
      "Traceback (most recent call last):\n",
      "  File \"/srv/conda/envs/notebook/lib/python3.7/asyncio/tasks.py\", line 603, in _wrap_awaitable\n",
      "    return (yield from awaitable.__await__())\n",
      "  File \"/srv/conda/envs/notebook/lib/python3.7/site-packages/distributed/deploy/spec.py\", line 42, in _\n",
      "    assert self.status == \"running\"\n",
      "AssertionError\n"
     ]
    }
   ],
   "source": [
    "df = pd.read_csv('https://storage.googleapis.com/cmip6/cmip6-zarr-consolidated-stores.csv')\n",
    "df.head()"
   ]
  },
  {
   "cell_type": "code",
   "execution_count": 5,
   "metadata": {},
   "outputs": [
    {
     "data": {
      "text/plain": [
       "array(['histSST', 'piClim-CH4', 'piClim-NTCF', 'piClim-control', 'ssp370',\n",
       "       'piClim-2xDMS', 'piClim-2xdust', 'piClim-2xfire', 'piClim-2xss',\n",
       "       'piClim-BC', 'piClim-HC', 'piClim-N2O', 'piClim-OC', 'piClim-SO2',\n",
       "       'piClim-aer', '1pctCO2-bgc', 'esm-ssp585', 'hist-bgc',\n",
       "       'amip-4xCO2', 'amip-future4K', 'amip-m4K', 'amip-p4K', 'amip',\n",
       "       'abrupt-2xCO2', 'abrupt-solp4p', 'abrupt-0p5xCO2', 'amip-lwoff',\n",
       "       'amip-p4K-lwoff', 'aqua-4xCO2', 'abrupt-solm4p',\n",
       "       'aqua-control-lwoff', 'aqua-control', 'aqua-p4K-lwoff', 'aqua-p4K',\n",
       "       '1pctCO2', 'abrupt-4xCO2', 'historical', 'piControl', 'esm-hist',\n",
       "       'esm-piControl', 'ssp126', 'ssp245', 'ssp585',\n",
       "       'esm-piControl-spinup', 'piControl-spinup', 'hist-GHG', 'hist-aer',\n",
       "       'hist-nat', 'hist-CO2', 'hist-sol', 'hist-stratO3', 'hist-volc',\n",
       "       'ssp245-GHG', 'ssp245-aer', 'ssp245-nat', 'ssp245-stratO3',\n",
       "       'dcppA-hindcast', 'dcppA-assim', 'dcppC-hindcast-noAgung',\n",
       "       'dcppC-hindcast-noElChichon', 'dcppC-hindcast-noPinatubo',\n",
       "       'dcppC-amv-neg', 'dcppC-amv-pos', 'dcppC-amv-ExTrop-neg',\n",
       "       'dcppC-amv-ExTrop-pos', 'dcppC-amv-Trop-neg', 'dcppC-amv-Trop-pos',\n",
       "       'dcppC-atl-control', 'dcppC-atl-pacemaker',\n",
       "       'dcppC-ipv-NexTrop-neg', 'dcppC-ipv-NexTrop-pos', 'dcppC-ipv-neg',\n",
       "       'dcppC-ipv-pos', 'dcppC-pac-control', 'dcppC-pac-pacemaker',\n",
       "       'faf-heat', 'faf-passiveheat', 'faf-stress', 'faf-water',\n",
       "       'faf-all', 'hist-resIPO', 'amip-hist', 'highresSST-present',\n",
       "       'highresSST-future', 'hist-1950', 'control-1950', 'land-hist',\n",
       "       'deforest-globe', 'esm-ssp585-ssp126Lu', 'hist-noLu', 'land-noLu',\n",
       "       'omip1', 'lig127k', 'midHolocene', 'lgm', 'piClim-4xCO2',\n",
       "       'piClim-anthro', 'piClim-ghg', 'piClim-histall', 'piClim-lu',\n",
       "       'ssp119', 'ssp434', 'ssp460', 'ssp534-over'], dtype=object)"
      ]
     },
     "execution_count": 5,
     "metadata": {},
     "output_type": "execute_result"
    },
    {
     "name": "stderr",
     "output_type": "stream",
     "text": [
      "Task exception was never retrieved\n",
      "future: <Task finished coro=<_wrap_awaitable() done, defined at /srv/conda/envs/notebook/lib/python3.7/asyncio/tasks.py:596> exception=AssertionError()>\n",
      "Traceback (most recent call last):\n",
      "  File \"/srv/conda/envs/notebook/lib/python3.7/asyncio/tasks.py\", line 603, in _wrap_awaitable\n",
      "    return (yield from awaitable.__await__())\n",
      "  File \"/srv/conda/envs/notebook/lib/python3.7/site-packages/distributed/deploy/spec.py\", line 42, in _\n",
      "    assert self.status == \"running\"\n",
      "AssertionError\n",
      "tornado.application - ERROR - Exception in callback functools.partial(<bound method IOLoop._discard_future_result of <zmq.eventloop.ioloop.ZMQIOLoop object at 0x7f9430f4b0b8>>, <Task finished coro=<AdaptiveCore.adapt() done, defined at /srv/conda/envs/notebook/lib/python3.7/site-packages/distributed/deploy/adaptive_core.py:170> exception=AssertionError()>)\n",
      "Traceback (most recent call last):\n",
      "  File \"/srv/conda/envs/notebook/lib/python3.7/site-packages/tornado/ioloop.py\", line 743, in _run_callback\n",
      "    ret = callback()\n",
      "  File \"/srv/conda/envs/notebook/lib/python3.7/site-packages/tornado/ioloop.py\", line 767, in _discard_future_result\n",
      "    future.result()\n",
      "  File \"/srv/conda/envs/notebook/lib/python3.7/site-packages/distributed/deploy/adaptive_core.py\", line 183, in adapt\n",
      "    recommendations = await self.recommendations(target)\n",
      "  File \"/srv/conda/envs/notebook/lib/python3.7/site-packages/distributed/deploy/adaptive.py\", line 121, in recommendations\n",
      "    await self.cluster\n",
      "  File \"/srv/conda/envs/notebook/lib/python3.7/site-packages/distributed/deploy/spec.py\", line 348, in _\n",
      "    await self._correct_state()\n",
      "  File \"/srv/conda/envs/notebook/lib/python3.7/site-packages/distributed/deploy/spec.py\", line 317, in _correct_state_internal\n",
      "    await w  # for tornado gen.coroutine support\n",
      "  File \"/srv/conda/envs/notebook/lib/python3.7/site-packages/distributed/deploy/spec.py\", line 42, in _\n",
      "    assert self.status == \"running\"\n",
      "AssertionError\n"
     ]
    }
   ],
   "source": [
    "df.experiment_id.unique()"
   ]
  },
  {
   "cell_type": "code",
   "execution_count": 6,
   "metadata": {},
   "outputs": [
    {
     "data": {
      "text/plain": [
       "array(['AERmon', 'Amon', 'LImon', 'Lmon', 'Omon', 'SImon', 'day',\n",
       "       'AERmonZ', 'CFmon', 'fx', 'Oyr', 'Ofx', 'CFday', '3hr', '6hrLev',\n",
       "       'Oday', 'Aclim', 'Emon', '6hrPlev', 'CF3hr', 'Oclim', 'SIclim',\n",
       "       'Eclim', 'Odec', 'AERhr', 'IfxGre', 'ImonGre', '6hrPlevPt', 'E3hr'],\n",
       "      dtype=object)"
      ]
     },
     "execution_count": 6,
     "metadata": {},
     "output_type": "execute_result"
    },
    {
     "name": "stderr",
     "output_type": "stream",
     "text": [
      "Task exception was never retrieved\n",
      "future: <Task finished coro=<_wrap_awaitable() done, defined at /srv/conda/envs/notebook/lib/python3.7/asyncio/tasks.py:596> exception=AssertionError()>\n",
      "Traceback (most recent call last):\n",
      "  File \"/srv/conda/envs/notebook/lib/python3.7/asyncio/tasks.py\", line 603, in _wrap_awaitable\n",
      "    return (yield from awaitable.__await__())\n",
      "  File \"/srv/conda/envs/notebook/lib/python3.7/site-packages/distributed/deploy/spec.py\", line 42, in _\n",
      "    assert self.status == \"running\"\n",
      "AssertionError\n",
      "tornado.application - ERROR - Exception in callback functools.partial(<bound method IOLoop._discard_future_result of <zmq.eventloop.ioloop.ZMQIOLoop object at 0x7f9430f4b0b8>>, <Task finished coro=<AdaptiveCore.adapt() done, defined at /srv/conda/envs/notebook/lib/python3.7/site-packages/distributed/deploy/adaptive_core.py:170> exception=AssertionError()>)\n",
      "Traceback (most recent call last):\n",
      "  File \"/srv/conda/envs/notebook/lib/python3.7/site-packages/tornado/ioloop.py\", line 743, in _run_callback\n",
      "    ret = callback()\n",
      "  File \"/srv/conda/envs/notebook/lib/python3.7/site-packages/tornado/ioloop.py\", line 767, in _discard_future_result\n",
      "    future.result()\n",
      "  File \"/srv/conda/envs/notebook/lib/python3.7/site-packages/distributed/deploy/adaptive_core.py\", line 183, in adapt\n",
      "    recommendations = await self.recommendations(target)\n",
      "  File \"/srv/conda/envs/notebook/lib/python3.7/site-packages/distributed/deploy/adaptive.py\", line 121, in recommendations\n",
      "    await self.cluster\n",
      "  File \"/srv/conda/envs/notebook/lib/python3.7/site-packages/distributed/deploy/spec.py\", line 348, in _\n",
      "    await self._correct_state()\n",
      "  File \"/srv/conda/envs/notebook/lib/python3.7/site-packages/distributed/deploy/spec.py\", line 317, in _correct_state_internal\n",
      "    await w  # for tornado gen.coroutine support\n",
      "  File \"/srv/conda/envs/notebook/lib/python3.7/site-packages/distributed/deploy/spec.py\", line 42, in _\n",
      "    assert self.status == \"running\"\n",
      "AssertionError\n",
      "Task exception was never retrieved\n",
      "future: <Task finished coro=<_wrap_awaitable() done, defined at /srv/conda/envs/notebook/lib/python3.7/asyncio/tasks.py:596> exception=AssertionError()>\n",
      "Traceback (most recent call last):\n",
      "  File \"/srv/conda/envs/notebook/lib/python3.7/asyncio/tasks.py\", line 603, in _wrap_awaitable\n",
      "    return (yield from awaitable.__await__())\n",
      "  File \"/srv/conda/envs/notebook/lib/python3.7/site-packages/distributed/deploy/spec.py\", line 42, in _\n",
      "    assert self.status == \"running\"\n",
      "AssertionError\n"
     ]
    }
   ],
   "source": [
    "df.table_id.unique()"
   ]
  },
  {
   "cell_type": "code",
   "execution_count": 13,
   "metadata": {},
   "outputs": [
    {
     "data": {
      "text/plain": [
       "array(['gs://cmip6/ScenarioMIP/BCC/BCC-CSM2-MR/ssp585/r1i1p1f1/day/ua/gn/',\n",
       "       'gs://cmip6/ScenarioMIP/BCC/BCC-CSM2-MR/ssp585/r1i1p1f1/day/va/gn/'],\n",
       "      dtype=object)"
      ]
     },
     "execution_count": 13,
     "metadata": {},
     "output_type": "execute_result"
    },
    {
     "name": "stderr",
     "output_type": "stream",
     "text": [
      "tornado.application - ERROR - Exception in callback functools.partial(<bound method IOLoop._discard_future_result of <zmq.eventloop.ioloop.ZMQIOLoop object at 0x7f9430f4b0b8>>, <Task finished coro=<AdaptiveCore.adapt() done, defined at /srv/conda/envs/notebook/lib/python3.7/site-packages/distributed/deploy/adaptive_core.py:170> exception=AssertionError()>)\n",
      "Traceback (most recent call last):\n",
      "  File \"/srv/conda/envs/notebook/lib/python3.7/site-packages/tornado/ioloop.py\", line 743, in _run_callback\n",
      "    ret = callback()\n",
      "  File \"/srv/conda/envs/notebook/lib/python3.7/site-packages/tornado/ioloop.py\", line 767, in _discard_future_result\n",
      "    future.result()\n",
      "  File \"/srv/conda/envs/notebook/lib/python3.7/site-packages/distributed/deploy/adaptive_core.py\", line 183, in adapt\n",
      "    recommendations = await self.recommendations(target)\n",
      "  File \"/srv/conda/envs/notebook/lib/python3.7/site-packages/distributed/deploy/adaptive.py\", line 121, in recommendations\n",
      "    await self.cluster\n",
      "  File \"/srv/conda/envs/notebook/lib/python3.7/site-packages/distributed/deploy/spec.py\", line 348, in _\n",
      "    await self._correct_state()\n",
      "  File \"/srv/conda/envs/notebook/lib/python3.7/site-packages/distributed/deploy/spec.py\", line 317, in _correct_state_internal\n",
      "    await w  # for tornado gen.coroutine support\n",
      "  File \"/srv/conda/envs/notebook/lib/python3.7/site-packages/distributed/deploy/spec.py\", line 42, in _\n",
      "    assert self.status == \"running\"\n",
      "AssertionError\n",
      "Task exception was never retrieved\n",
      "future: <Task finished coro=<_wrap_awaitable() done, defined at /srv/conda/envs/notebook/lib/python3.7/asyncio/tasks.py:596> exception=AssertionError()>\n",
      "Traceback (most recent call last):\n",
      "  File \"/srv/conda/envs/notebook/lib/python3.7/asyncio/tasks.py\", line 603, in _wrap_awaitable\n",
      "    return (yield from awaitable.__await__())\n",
      "  File \"/srv/conda/envs/notebook/lib/python3.7/site-packages/distributed/deploy/spec.py\", line 42, in _\n",
      "    assert self.status == \"running\"\n",
      "AssertionError\n",
      "tornado.application - ERROR - Exception in callback functools.partial(<bound method IOLoop._discard_future_result of <zmq.eventloop.ioloop.ZMQIOLoop object at 0x7f9430f4b0b8>>, <Task finished coro=<AdaptiveCore.adapt() done, defined at /srv/conda/envs/notebook/lib/python3.7/site-packages/distributed/deploy/adaptive_core.py:170> exception=AssertionError()>)\n",
      "Traceback (most recent call last):\n",
      "  File \"/srv/conda/envs/notebook/lib/python3.7/site-packages/tornado/ioloop.py\", line 743, in _run_callback\n",
      "    ret = callback()\n",
      "  File \"/srv/conda/envs/notebook/lib/python3.7/site-packages/tornado/ioloop.py\", line 767, in _discard_future_result\n",
      "    future.result()\n",
      "  File \"/srv/conda/envs/notebook/lib/python3.7/site-packages/distributed/deploy/adaptive_core.py\", line 183, in adapt\n",
      "    recommendations = await self.recommendations(target)\n",
      "  File \"/srv/conda/envs/notebook/lib/python3.7/site-packages/distributed/deploy/adaptive.py\", line 121, in recommendations\n",
      "    await self.cluster\n",
      "  File \"/srv/conda/envs/notebook/lib/python3.7/site-packages/distributed/deploy/spec.py\", line 348, in _\n",
      "    await self._correct_state()\n",
      "  File \"/srv/conda/envs/notebook/lib/python3.7/site-packages/distributed/deploy/spec.py\", line 317, in _correct_state_internal\n",
      "    await w  # for tornado gen.coroutine support\n",
      "  File \"/srv/conda/envs/notebook/lib/python3.7/site-packages/distributed/deploy/spec.py\", line 42, in _\n",
      "    assert self.status == \"running\"\n",
      "AssertionError\n"
     ]
    }
   ],
   "source": [
    "df[(df.experiment_id=='ssp585') & (df.table_id=='day') & (df.variable_id.isin(['ua', 'va']))]['zstore'].values[:2]"
   ]
  },
  {
   "cell_type": "code",
   "execution_count": 14,
   "metadata": {},
   "outputs": [
    {
     "name": "stderr",
     "output_type": "stream",
     "text": [
      "Task exception was never retrieved\n",
      "future: <Task finished coro=<_wrap_awaitable() done, defined at /srv/conda/envs/notebook/lib/python3.7/asyncio/tasks.py:596> exception=AssertionError()>\n",
      "Traceback (most recent call last):\n",
      "  File \"/srv/conda/envs/notebook/lib/python3.7/asyncio/tasks.py\", line 603, in _wrap_awaitable\n",
      "    return (yield from awaitable.__await__())\n",
      "  File \"/srv/conda/envs/notebook/lib/python3.7/site-packages/distributed/deploy/spec.py\", line 42, in _\n",
      "    assert self.status == \"running\"\n",
      "AssertionError\n"
     ]
    }
   ],
   "source": [
    "uri=df[(df.experiment_id=='ssp585') & (df.table_id=='day') & (df.variable_id.isin(['ua', 'va']))]['zstore'].values[0]"
   ]
  },
  {
   "cell_type": "code",
   "execution_count": 15,
   "metadata": {},
   "outputs": [
    {
     "data": {
      "text/plain": [
       "'gs://cmip6/ScenarioMIP/BCC/BCC-CSM2-MR/ssp585/r1i1p1f1/day/ua/gn/'"
      ]
     },
     "execution_count": 15,
     "metadata": {},
     "output_type": "execute_result"
    },
    {
     "name": "stderr",
     "output_type": "stream",
     "text": [
      "tornado.application - ERROR - Exception in callback functools.partial(<bound method IOLoop._discard_future_result of <zmq.eventloop.ioloop.ZMQIOLoop object at 0x7f9430f4b0b8>>, <Task finished coro=<AdaptiveCore.adapt() done, defined at /srv/conda/envs/notebook/lib/python3.7/site-packages/distributed/deploy/adaptive_core.py:170> exception=AssertionError()>)\n",
      "Traceback (most recent call last):\n",
      "  File \"/srv/conda/envs/notebook/lib/python3.7/site-packages/tornado/ioloop.py\", line 743, in _run_callback\n",
      "    ret = callback()\n",
      "  File \"/srv/conda/envs/notebook/lib/python3.7/site-packages/tornado/ioloop.py\", line 767, in _discard_future_result\n",
      "    future.result()\n",
      "  File \"/srv/conda/envs/notebook/lib/python3.7/site-packages/distributed/deploy/adaptive_core.py\", line 183, in adapt\n",
      "    recommendations = await self.recommendations(target)\n",
      "  File \"/srv/conda/envs/notebook/lib/python3.7/site-packages/distributed/deploy/adaptive.py\", line 121, in recommendations\n",
      "    await self.cluster\n",
      "  File \"/srv/conda/envs/notebook/lib/python3.7/site-packages/distributed/deploy/spec.py\", line 348, in _\n",
      "    await self._correct_state()\n",
      "  File \"/srv/conda/envs/notebook/lib/python3.7/site-packages/distributed/deploy/spec.py\", line 317, in _correct_state_internal\n",
      "    await w  # for tornado gen.coroutine support\n",
      "  File \"/srv/conda/envs/notebook/lib/python3.7/site-packages/distributed/deploy/spec.py\", line 42, in _\n",
      "    assert self.status == \"running\"\n",
      "AssertionError\n",
      "Task exception was never retrieved\n",
      "future: <Task finished coro=<_wrap_awaitable() done, defined at /srv/conda/envs/notebook/lib/python3.7/asyncio/tasks.py:596> exception=AssertionError()>\n",
      "Traceback (most recent call last):\n",
      "  File \"/srv/conda/envs/notebook/lib/python3.7/asyncio/tasks.py\", line 603, in _wrap_awaitable\n",
      "    return (yield from awaitable.__await__())\n",
      "  File \"/srv/conda/envs/notebook/lib/python3.7/site-packages/distributed/deploy/spec.py\", line 42, in _\n",
      "    assert self.status == \"running\"\n",
      "AssertionError\n"
     ]
    }
   ],
   "source": [
    "uri"
   ]
  },
  {
   "cell_type": "code",
   "execution_count": 16,
   "metadata": {},
   "outputs": [
    {
     "data": {
      "text/html": [
       "<pre>&lt;xarray.Dataset&gt;\n",
       "Dimensions:    (bnds: 2, lat: 160, lon: 320, plev: 8, time: 31390)\n",
       "Coordinates:\n",
       "  * lat        (lat) float64 -89.14 -88.03 -86.91 -85.79 ... 86.91 88.03 89.14\n",
       "    lat_bnds   (lat, bnds) float64 dask.array&lt;chunksize=(160, 2), meta=np.ndarray&gt;\n",
       "  * lon        (lon) float64 0.0 1.125 2.25 3.375 ... 355.5 356.6 357.8 358.9\n",
       "    lon_bnds   (lon, bnds) float64 dask.array&lt;chunksize=(320, 2), meta=np.ndarray&gt;\n",
       "  * plev       (plev) float64 1e+05 8.5e+04 7e+04 5e+04 ... 1e+04 5e+03 1e+03\n",
       "  * time       (time) object 2015-01-01 12:00:00 ... 2100-12-31 12:00:00\n",
       "    time_bnds  (time, bnds) object dask.array&lt;chunksize=(15695, 2), meta=np.ndarray&gt;\n",
       "Dimensions without coordinates: bnds\n",
       "Data variables:\n",
       "    ua         (time, plev, lat, lon) float32 dask.array&lt;chunksize=(200, 8, 160, 320), meta=np.ndarray&gt;\n",
       "Attributes:\n",
       "    Conventions:            CF-1.7 CMIP-6.2\n",
       "    activity_id:            ScenarioMIP\n",
       "    branch_method:          Standard\n",
       "    branch_time_in_child:   0.0\n",
       "    branch_time_in_parent:  2015.0\n",
       "    cmor_version:           3.3.2\n",
       "    comment:                This is an extension of historical simulation (r1...\n",
       "    contact:                Dr. Tongwen Wu(twwu@cma.gov.cn)\n",
       "    creation_date:          2019-03-18T04:50:20Z\n",
       "    data_specs_version:     01.00.27\n",
       "    description:            SSP5-8.5\n",
       "    experiment:             update of RCP8.5 based on SSP5\n",
       "    experiment_id:          ssp585\n",
       "    external_variables:     areacella\n",
       "    forcing_index:          1\n",
       "    frequency:              day\n",
       "    further_info_url:       https://furtherinfo.es-doc.org/CMIP6.BCC.BCC-CSM2...\n",
       "    grid:                   T106\n",
       "    grid_label:             gn\n",
       "    history:                2019-03-18T04:50:20Z ; CMOR rewrote data to be co...\n",
       "    initialization_index:   1\n",
       "    institution:            Beijing Climate Center, Beijing 100081, China\n",
       "    institution_id:         BCC\n",
       "    license:                CMIP6 model data produced by BCC is licensed unde...\n",
       "    mip_era:                CMIP6\n",
       "    nominal_resolution:     100 km\n",
       "    parent_activity_id:     CMIP\n",
       "    parent_experiment_id:   historical\n",
       "    parent_mip_era:         CMIP6\n",
       "    parent_source_id:       BCC-CSM2-MR\n",
       "    parent_time_units:      days since 2015-01-01\n",
       "    parent_variant_label:   r1i1p1f1\n",
       "    physics_index:          1\n",
       "    product:                model-output\n",
       "    realization_index:      1\n",
       "    realm:                  atmos\n",
       "    references:             Model described by Tongwen Wu et al. (JGR 2013; J...\n",
       "    run_variant:            forcing: greenhouse gases,solar constant,aerosol,...\n",
       "    source:                 BCC-CSM 2 MR (2017):   aerosol: none  atmos: BCC_...\n",
       "    source_id:              BCC-CSM2-MR\n",
       "    source_type:            AOGCM\n",
       "    sub_experiment:         none\n",
       "    sub_experiment_id:      none\n",
       "    table_id:               day\n",
       "    table_info:             Creation Date:(30 July 2018) MD5:e53ff52009d0b97d...\n",
       "    title:                  BCC-CSM2-MR output prepared for CMIP6\n",
       "    tracking_id:            hdl:21.14100/1d2f9e47-bb3d-4e93-a0d6-c6d87cae9af6...\n",
       "    variable_id:            ua\n",
       "    variant_label:          r1i1p1f1\n",
       "    status:                 2019-10-25;created;by nhn2@columbia.edu</pre>"
      ],
      "text/plain": [
       "<xarray.Dataset>\n",
       "Dimensions:    (bnds: 2, lat: 160, lon: 320, plev: 8, time: 31390)\n",
       "Coordinates:\n",
       "  * lat        (lat) float64 -89.14 -88.03 -86.91 -85.79 ... 86.91 88.03 89.14\n",
       "    lat_bnds   (lat, bnds) float64 dask.array<chunksize=(160, 2), meta=np.ndarray>\n",
       "  * lon        (lon) float64 0.0 1.125 2.25 3.375 ... 355.5 356.6 357.8 358.9\n",
       "    lon_bnds   (lon, bnds) float64 dask.array<chunksize=(320, 2), meta=np.ndarray>\n",
       "  * plev       (plev) float64 1e+05 8.5e+04 7e+04 5e+04 ... 1e+04 5e+03 1e+03\n",
       "  * time       (time) object 2015-01-01 12:00:00 ... 2100-12-31 12:00:00\n",
       "    time_bnds  (time, bnds) object dask.array<chunksize=(15695, 2), meta=np.ndarray>\n",
       "Dimensions without coordinates: bnds\n",
       "Data variables:\n",
       "    ua         (time, plev, lat, lon) float32 dask.array<chunksize=(200, 8, 160, 320), meta=np.ndarray>\n",
       "Attributes:\n",
       "    Conventions:            CF-1.7 CMIP-6.2\n",
       "    activity_id:            ScenarioMIP\n",
       "    branch_method:          Standard\n",
       "    branch_time_in_child:   0.0\n",
       "    branch_time_in_parent:  2015.0\n",
       "    cmor_version:           3.3.2\n",
       "    comment:                This is an extension of historical simulation (r1...\n",
       "    contact:                Dr. Tongwen Wu(twwu@cma.gov.cn)\n",
       "    creation_date:          2019-03-18T04:50:20Z\n",
       "    data_specs_version:     01.00.27\n",
       "    description:            SSP5-8.5\n",
       "    experiment:             update of RCP8.5 based on SSP5\n",
       "    experiment_id:          ssp585\n",
       "    external_variables:     areacella\n",
       "    forcing_index:          1\n",
       "    frequency:              day\n",
       "    further_info_url:       https://furtherinfo.es-doc.org/CMIP6.BCC.BCC-CSM2...\n",
       "    grid:                   T106\n",
       "    grid_label:             gn\n",
       "    history:                2019-03-18T04:50:20Z ; CMOR rewrote data to be co...\n",
       "    initialization_index:   1\n",
       "    institution:            Beijing Climate Center, Beijing 100081, China\n",
       "    institution_id:         BCC\n",
       "    license:                CMIP6 model data produced by BCC is licensed unde...\n",
       "    mip_era:                CMIP6\n",
       "    nominal_resolution:     100 km\n",
       "    parent_activity_id:     CMIP\n",
       "    parent_experiment_id:   historical\n",
       "    parent_mip_era:         CMIP6\n",
       "    parent_source_id:       BCC-CSM2-MR\n",
       "    parent_time_units:      days since 2015-01-01\n",
       "    parent_variant_label:   r1i1p1f1\n",
       "    physics_index:          1\n",
       "    product:                model-output\n",
       "    realization_index:      1\n",
       "    realm:                  atmos\n",
       "    references:             Model described by Tongwen Wu et al. (JGR 2013; J...\n",
       "    run_variant:            forcing: greenhouse gases,solar constant,aerosol,...\n",
       "    source:                 BCC-CSM 2 MR (2017):   aerosol: none  atmos: BCC_...\n",
       "    source_id:              BCC-CSM2-MR\n",
       "    source_type:            AOGCM\n",
       "    sub_experiment:         none\n",
       "    sub_experiment_id:      none\n",
       "    table_id:               day\n",
       "    table_info:             Creation Date:(30 July 2018) MD5:e53ff52009d0b97d...\n",
       "    title:                  BCC-CSM2-MR output prepared for CMIP6\n",
       "    tracking_id:            hdl:21.14100/1d2f9e47-bb3d-4e93-a0d6-c6d87cae9af6...\n",
       "    variable_id:            ua\n",
       "    variant_label:          r1i1p1f1\n",
       "    status:                 2019-10-25;created;by nhn2@columbia.edu"
      ]
     },
     "execution_count": 16,
     "metadata": {},
     "output_type": "execute_result"
    },
    {
     "name": "stderr",
     "output_type": "stream",
     "text": [
      "tornado.application - ERROR - Exception in callback functools.partial(<bound method IOLoop._discard_future_result of <zmq.eventloop.ioloop.ZMQIOLoop object at 0x7f9430f4b0b8>>, <Task finished coro=<AdaptiveCore.adapt() done, defined at /srv/conda/envs/notebook/lib/python3.7/site-packages/distributed/deploy/adaptive_core.py:170> exception=AssertionError()>)\n",
      "Traceback (most recent call last):\n",
      "  File \"/srv/conda/envs/notebook/lib/python3.7/site-packages/tornado/ioloop.py\", line 743, in _run_callback\n",
      "    ret = callback()\n",
      "  File \"/srv/conda/envs/notebook/lib/python3.7/site-packages/tornado/ioloop.py\", line 767, in _discard_future_result\n",
      "    future.result()\n",
      "  File \"/srv/conda/envs/notebook/lib/python3.7/site-packages/distributed/deploy/adaptive_core.py\", line 183, in adapt\n",
      "    recommendations = await self.recommendations(target)\n",
      "  File \"/srv/conda/envs/notebook/lib/python3.7/site-packages/distributed/deploy/adaptive.py\", line 121, in recommendations\n",
      "    await self.cluster\n",
      "  File \"/srv/conda/envs/notebook/lib/python3.7/site-packages/distributed/deploy/spec.py\", line 348, in _\n",
      "    await self._correct_state()\n",
      "  File \"/srv/conda/envs/notebook/lib/python3.7/site-packages/distributed/deploy/spec.py\", line 317, in _correct_state_internal\n",
      "    await w  # for tornado gen.coroutine support\n",
      "  File \"/srv/conda/envs/notebook/lib/python3.7/site-packages/distributed/deploy/spec.py\", line 42, in _\n",
      "    assert self.status == \"running\"\n",
      "AssertionError\n",
      "Task exception was never retrieved\n",
      "future: <Task finished coro=<_wrap_awaitable() done, defined at /srv/conda/envs/notebook/lib/python3.7/asyncio/tasks.py:596> exception=AssertionError()>\n",
      "Traceback (most recent call last):\n",
      "  File \"/srv/conda/envs/notebook/lib/python3.7/asyncio/tasks.py\", line 603, in _wrap_awaitable\n",
      "    return (yield from awaitable.__await__())\n",
      "  File \"/srv/conda/envs/notebook/lib/python3.7/site-packages/distributed/deploy/spec.py\", line 42, in _\n",
      "    assert self.status == \"running\"\n",
      "AssertionError\n",
      "tornado.application - ERROR - Exception in callback functools.partial(<bound method IOLoop._discard_future_result of <zmq.eventloop.ioloop.ZMQIOLoop object at 0x7f9430f4b0b8>>, <Task finished coro=<AdaptiveCore.adapt() done, defined at /srv/conda/envs/notebook/lib/python3.7/site-packages/distributed/deploy/adaptive_core.py:170> exception=AssertionError()>)\n",
      "Traceback (most recent call last):\n",
      "  File \"/srv/conda/envs/notebook/lib/python3.7/site-packages/tornado/ioloop.py\", line 743, in _run_callback\n",
      "    ret = callback()\n",
      "  File \"/srv/conda/envs/notebook/lib/python3.7/site-packages/tornado/ioloop.py\", line 767, in _discard_future_result\n",
      "    future.result()\n",
      "  File \"/srv/conda/envs/notebook/lib/python3.7/site-packages/distributed/deploy/adaptive_core.py\", line 183, in adapt\n",
      "    recommendations = await self.recommendations(target)\n",
      "  File \"/srv/conda/envs/notebook/lib/python3.7/site-packages/distributed/deploy/adaptive.py\", line 121, in recommendations\n",
      "    await self.cluster\n",
      "  File \"/srv/conda/envs/notebook/lib/python3.7/site-packages/distributed/deploy/spec.py\", line 348, in _\n",
      "    await self._correct_state()\n",
      "  File \"/srv/conda/envs/notebook/lib/python3.7/site-packages/distributed/deploy/spec.py\", line 317, in _correct_state_internal\n",
      "    await w  # for tornado gen.coroutine support\n",
      "  File \"/srv/conda/envs/notebook/lib/python3.7/site-packages/distributed/deploy/spec.py\", line 42, in _\n",
      "    assert self.status == \"running\"\n",
      "AssertionError\n",
      "Task exception was never retrieved\n",
      "future: <Task finished coro=<_wrap_awaitable() done, defined at /srv/conda/envs/notebook/lib/python3.7/asyncio/tasks.py:596> exception=AssertionError()>\n",
      "Traceback (most recent call last):\n",
      "  File \"/srv/conda/envs/notebook/lib/python3.7/asyncio/tasks.py\", line 603, in _wrap_awaitable\n",
      "    return (yield from awaitable.__await__())\n",
      "  File \"/srv/conda/envs/notebook/lib/python3.7/site-packages/distributed/deploy/spec.py\", line 42, in _\n",
      "    assert self.status == \"running\"\n",
      "AssertionError\n",
      "tornado.application - ERROR - Exception in callback functools.partial(<bound method IOLoop._discard_future_result of <zmq.eventloop.ioloop.ZMQIOLoop object at 0x7f9430f4b0b8>>, <Task finished coro=<AdaptiveCore.adapt() done, defined at /srv/conda/envs/notebook/lib/python3.7/site-packages/distributed/deploy/adaptive_core.py:170> exception=AssertionError()>)\n",
      "Traceback (most recent call last):\n",
      "  File \"/srv/conda/envs/notebook/lib/python3.7/site-packages/tornado/ioloop.py\", line 743, in _run_callback\n",
      "    ret = callback()\n",
      "  File \"/srv/conda/envs/notebook/lib/python3.7/site-packages/tornado/ioloop.py\", line 767, in _discard_future_result\n",
      "    future.result()\n",
      "  File \"/srv/conda/envs/notebook/lib/python3.7/site-packages/distributed/deploy/adaptive_core.py\", line 183, in adapt\n",
      "    recommendations = await self.recommendations(target)\n",
      "  File \"/srv/conda/envs/notebook/lib/python3.7/site-packages/distributed/deploy/adaptive.py\", line 121, in recommendations\n",
      "    await self.cluster\n",
      "  File \"/srv/conda/envs/notebook/lib/python3.7/site-packages/distributed/deploy/spec.py\", line 348, in _\n",
      "    await self._correct_state()\n",
      "  File \"/srv/conda/envs/notebook/lib/python3.7/site-packages/distributed/deploy/spec.py\", line 317, in _correct_state_internal\n",
      "    await w  # for tornado gen.coroutine support\n",
      "  File \"/srv/conda/envs/notebook/lib/python3.7/site-packages/distributed/deploy/spec.py\", line 42, in _\n",
      "    assert self.status == \"running\"\n",
      "AssertionError\n",
      "Task exception was never retrieved\n",
      "future: <Task finished coro=<_wrap_awaitable() done, defined at /srv/conda/envs/notebook/lib/python3.7/asyncio/tasks.py:596> exception=AssertionError()>\n",
      "Traceback (most recent call last):\n",
      "  File \"/srv/conda/envs/notebook/lib/python3.7/asyncio/tasks.py\", line 603, in _wrap_awaitable\n",
      "    return (yield from awaitable.__await__())\n",
      "  File \"/srv/conda/envs/notebook/lib/python3.7/site-packages/distributed/deploy/spec.py\", line 42, in _\n",
      "    assert self.status == \"running\"\n",
      "AssertionError\n"
     ]
    }
   ],
   "source": [
    "gcs = gcsfs.GCSFileSystem(token='anon')\n",
    "ds = xr.open_zarr(gcs.get_mapper(uri), consolidated=True)\n",
    "ds"
   ]
  },
  {
   "cell_type": "code",
   "execution_count": null,
   "metadata": {},
   "outputs": [],
   "source": []
  },
  {
   "cell_type": "code",
   "execution_count": null,
   "metadata": {},
   "outputs": [],
   "source": []
  },
  {
   "cell_type": "code",
   "execution_count": null,
   "metadata": {},
   "outputs": [],
   "source": []
  },
  {
   "cell_type": "code",
   "execution_count": null,
   "metadata": {},
   "outputs": [],
   "source": [
    "df_3hr_pr = df[(df.table_id == '3hr') & (df.variable_id == 'pr')]\n",
    "len(df_3hr_pr)"
   ]
  },
  {
   "cell_type": "code",
   "execution_count": null,
   "metadata": {},
   "outputs": [],
   "source": []
  },
  {
   "cell_type": "code",
   "execution_count": null,
   "metadata": {},
   "outputs": [],
   "source": []
  },
  {
   "cell_type": "code",
   "execution_count": null,
   "metadata": {},
   "outputs": [],
   "source": []
  },
  {
   "cell_type": "code",
   "execution_count": null,
   "metadata": {},
   "outputs": [],
   "source": []
  },
  {
   "cell_type": "code",
   "execution_count": null,
   "metadata": {},
   "outputs": [],
   "source": [
    "df_3hr_pr.head()"
   ]
  },
  {
   "cell_type": "code",
   "execution_count": null,
   "metadata": {},
   "outputs": [],
   "source": [
    "df_3hr_pr.groupby(['experiment_id', 'source_id'])['zstore'].count()"
   ]
  },
  {
   "cell_type": "code",
   "execution_count": null,
   "metadata": {},
   "outputs": [],
   "source": [
    "run_counts = df_3hr_pr.groupby(['source_id', 'experiment_id'])['zstore'].count()\n",
    "run_counts"
   ]
  },
  {
   "cell_type": "code",
   "execution_count": null,
   "metadata": {},
   "outputs": [],
   "source": [
    "source_ids = []\n",
    "experiment_ids = ['historical', 'ssp585']\n",
    "for name, group in df_3hr_pr.groupby('source_id'):\n",
    "    if all([expt in group.experiment_id.values\n",
    "            for expt in experiment_ids]):\n",
    "        source_ids.append(name)\n",
    "source_ids"
   ]
  },
  {
   "cell_type": "code",
   "execution_count": null,
   "metadata": {},
   "outputs": [],
   "source": [
    "def load_pr_data(source_id, expt_id):\n",
    "    \"\"\"\n",
    "    Load 3hr precip data for given source and expt ids\n",
    "    \"\"\"\n",
    "    uri = df_3hr_pr[(df_3hr_pr.source_id == source_id) &\n",
    "                         (df_3hr_pr.experiment_id == expt_id)].zstore.values[0]\n",
    "    \n",
    "    gcs = gcsfs.GCSFileSystem(token='anon')\n",
    "    ds = xr.open_zarr(gcs.get_mapper(uri), consolidated=True)\n",
    "    return ds"
   ]
  },
  {
   "cell_type": "code",
   "execution_count": null,
   "metadata": {},
   "outputs": [],
   "source": [
    "def precip_hist(ds, nbins=100, pr_log_min=-3, pr_log_max=2):\n",
    "    \"\"\"\n",
    "    Calculate precipitation histogram for a single model. \n",
    "    Lazy.\n",
    "    \"\"\"\n",
    "    assert ds.pr.units == 'kg m-2 s-1'\n",
    "    \n",
    "    # mm/day\n",
    "    bins_mm_day = np.hstack([[0], np.logspace(pr_log_min, pr_log_max, nbins)]) \n",
    "    bins_kg_m2s = bins_mm_day / (24*60*60)\n",
    "\n",
    "    pr_hist = histogram(ds.pr, bins=[bins_kg_m2s], dim=['lon']).mean(dim='time')\n",
    "    \n",
    "    log_bin_spacing = np.diff(np.log(bins_kg_m2s[1:3])).item()\n",
    "    pr_hist_norm = 100 * pr_hist / ds.dims['lon'] / log_bin_spacing\n",
    "    pr_hist_norm.attrs.update({'long_name': 'zonal mean rain frequency',\n",
    "                               'units': '%/Δln(r)'})\n",
    "    return pr_hist_norm\n",
    "\n",
    "def precip_hist_for_expts(dsets, experiment_ids):\n",
    "    \"\"\"\n",
    "    Calculate histogram for a suite of experiments.\n",
    "    Eager.\n",
    "    \"\"\"\n",
    "    # actual data loading and computations happen in this next line\n",
    "    pr_hists = [precip_hist(ds).load()\n",
    "            for ds in [ds_hist, ds_ssp]]\n",
    "    pr_hist = xr.concat(pr_hists, dim=xr.Variable('experiment_id', experiment_ids))\n",
    "    return pr_hist"
   ]
  },
  {
   "cell_type": "code",
   "execution_count": null,
   "metadata": {},
   "outputs": [],
   "source": [
    "source_ids"
   ]
  },
  {
   "cell_type": "code",
   "execution_count": null,
   "metadata": {},
   "outputs": [],
   "source": [
    "results = {}\n",
    "for source_id in tqdm(source_ids):\n",
    "    # get a 20 year period\n",
    "    ds_hist = load_pr_data(source_id, 'historical').sel(time=slice('1980', '2000'))\n",
    "    ds_ssp = load_pr_data(source_id, 'ssp585').sel(time=slice('2080', '2100'))\n",
    "    pr_hist = precip_hist_for_expts([ds_hist, ds_ssp], experiment_ids)\n",
    "    results[source_id] = pr_hist"
   ]
  },
  {
   "cell_type": "code",
   "execution_count": null,
   "metadata": {},
   "outputs": [],
   "source": [
    "def plot_precip_changes(pr_hist, vmax=5):\n",
    "    \"\"\"\n",
    "    Visualize the output\n",
    "    \"\"\"\n",
    "    pr_hist_diff = (pr_hist.sel(experiment_id='ssp585') - \n",
    "                    pr_hist.sel(experiment_id='historical'))\n",
    "    pr_hist.sel(experiment_id='historical')[:, 1:].plot.contour(xscale='log', colors='0.5', levels=21)\n",
    "    pr_hist_diff[:, 1:].plot.contourf(xscale='log', vmax=vmax, levels=21)"
   ]
  },
  {
   "cell_type": "code",
   "execution_count": null,
   "metadata": {},
   "outputs": [],
   "source": [
    "title = 'Change in Zonal Mean Rain Frequency'\n",
    "for source_id, pr_hist in results.items():\n",
    "    plt.figure()\n",
    "    plot_precip_changes(pr_hist)\n",
    "    plt.title(f'{title}: {source_id}')"
   ]
  },
  {
   "cell_type": "code",
   "execution_count": null,
   "metadata": {},
   "outputs": [],
   "source": []
  },
  {
   "cell_type": "code",
   "execution_count": null,
   "metadata": {},
   "outputs": [],
   "source": []
  }
 ],
 "metadata": {
  "kernelspec": {
   "display_name": "Python 3",
   "language": "python",
   "name": "python3"
  },
  "language_info": {
   "codemirror_mode": {
    "name": "ipython",
    "version": 3
   },
   "file_extension": ".py",
   "mimetype": "text/x-python",
   "name": "python",
   "nbconvert_exporter": "python",
   "pygments_lexer": "ipython3",
   "version": "3.7.3"
  }
 },
 "nbformat": 4,
 "nbformat_minor": 4
}
