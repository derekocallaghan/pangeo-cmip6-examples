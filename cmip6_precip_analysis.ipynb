{
 "cells": [
  {
   "cell_type": "markdown",
   "metadata": {},
   "source": [
    "# CMIP6 Precip Analysis (3-hourly data)\n",
    "\n",
    "Sub-daily CMIP data is rarely analyzed because it is so big. So this is a perfect test case for Pangeo.\n",
    "This notebook shows some simple statistical analysis of currently available CMIP6 historical hourly data.\n",
    "\n",
    "### About Pangeo \n",
    "\n",
    "This notebook is running on [Google Cloud Platform](https://cloud.google.com/).\n",
    "This resource is provided by the [Pangeo](http://pangeo.io/) project, supported by a grant from the US National Science Foundation and a direct award from Google.\n",
    "\n",
    "There is no single software package called “pangeo”; rather, the Pangeo project serves as a coordination point between scientists, software, and computing infrastructure. Some key open-source technologies that make this possible are:\n",
    "- [Jupyter](http://pangeo.io/) - The binder and notebook environment\n",
    "- [Dask](https://docs.dask.org/en/latest/) - Parallel computing library for python\n",
    "- [Xarray](http://xarray.pydata.org/en/latest/) - Tool for working with labelled multi-dimensional arrays\n",
    "- [Zarr](https://zarr.readthedocs.io) - Storage library that enables Xarray to interact with cloud storage\n",
    "- [Pyviz](https://zarr.readthedocs.io) - Interactive visualization tools\n",
    "- [Intake](https://intake.readthedocs.io) - Data catalogs\n",
    "\n",
    "### Disclaimer\n",
    "\n",
    "This demo was constructed in haste for the [WCRP CMIP6 Model Analysis Workshop](https://www.wcrp-climate.org/wgcm-cmip/cmip-meetings/1317-cmip6-2018-workshop-savedate) in March, 2019.\n",
    "It is intended to concisely showcase the potential of cloud computing to accelerate WCRP science.\n",
    "There are many ways it could be improved, made more precise, comprehensive, etc.\n",
    "These would also make it more complex, which would make it less effective as a demo."
   ]
  },
  {
   "cell_type": "markdown",
   "metadata": {},
   "source": [
    "First we import the necessary packages."
   ]
  },
  {
   "cell_type": "code",
   "execution_count": null,
   "metadata": {},
   "outputs": [],
   "source": [
    "import intake\n",
    "import xarray as xr\n",
    "from matplotlib import pyplot as plt\n",
    "import numpy as np\n",
    "%matplotlib inline\n",
    "plt.rcParams['figure.figsize'] = 12, 6"
   ]
  },
  {
   "cell_type": "markdown",
   "metadata": {},
   "source": [
    "### Dask Cluster\n",
    "\n",
    "Here we create a Dask cluster on the fly to speed up the processing."
   ]
  },
  {
   "cell_type": "code",
   "execution_count": null,
   "metadata": {},
   "outputs": [],
   "source": [
    "from dask.distributed import Client, progress\n",
    "from dask_kubernetes import KubeCluster\n",
    "cluster = KubeCluster(n_workers=20)\n",
    "client = Client(cluster)\n",
    "cluster"
   ]
  },
  {
   "cell_type": "markdown",
   "metadata": {},
   "source": [
    "☝️ **Don't forget to watch the Dask dashboard as the computations run!**\n",
    "\n",
    "(You can also open dask dashboard elements in the Dask menu on the right and place them in the JupyterLab workspace.)"
   ]
  },
  {
   "cell_type": "code",
   "execution_count": null,
   "metadata": {},
   "outputs": [],
   "source": [
    "cat_url = 'https://raw.githubusercontent.com/pangeo-data/pangeo-datastore/master/intake-catalogs/master.yaml'\n",
    "master_cat = intake.Catalog(cat_url)\n",
    "list(master_cat)"
   ]
  },
  {
   "cell_type": "code",
   "execution_count": null,
   "metadata": {},
   "outputs": [],
   "source": [
    "cmip_cat = master_cat.cmip6.get()\n",
    "list(cmip_cat)"
   ]
  },
  {
   "cell_type": "code",
   "execution_count": null,
   "metadata": {},
   "outputs": [],
   "source": [
    "ds = cmip_cat['GISS-E2-1-G.historical.r1i1p1f1.pr'].to_dask()\n",
    "ds"
   ]
  },
  {
   "cell_type": "markdown",
   "metadata": {},
   "source": [
    "## Diurnal Cycle Analysis\n",
    "\n",
    "Since we have sub-daily data, we are able to look at the diurnal cycle."
   ]
  },
  {
   "cell_type": "code",
   "execution_count": null,
   "metadata": {},
   "outputs": [],
   "source": [
    "def diurnal_cycle(ds):\n",
    "    return ds.reset_coords(drop=True).groupby('time.hour').mean(dim='time')\n",
    "\n",
    "ds_diurnal = ds.groupby('time.year').apply(diurnal_cycle)\n",
    "ds_diurnal"
   ]
  },
  {
   "cell_type": "code",
   "execution_count": null,
   "metadata": {},
   "outputs": [],
   "source": [
    "ds_diurnal = ds_diurnal.persist(retries=4)"
   ]
  },
  {
   "cell_type": "code",
   "execution_count": null,
   "metadata": {},
   "outputs": [],
   "source": [
    "import holoviews as hv\n",
    "import geoviews as gv\n",
    "import geoviews.feature as gf\n",
    "import cartopy.crs as crs\n",
    "from holoviews.operation.datashader import regrid\n",
    "hv.extension('bokeh', 'matplotlib')\n",
    "\n",
    "def quick_plot(da, dims, redim_range=None, **user_options):\n",
    "    options = dict(cmap='viridis', colorbar=True,\n",
    "                   width=700, height=450)\n",
    "    options.update(user_options)\n",
    "    name = da.name\n",
    "    dataset = hv.Dataset(da)\n",
    "    image = (dataset.to(hv.QuadMesh, dims, dynamic=True)\n",
    "                       .options(**options))\n",
    "    if redim_range is not None:\n",
    "        image = image.redim.range(**{name: redim_range})\n",
    "\n",
    "    return hv.output(image, backend='bokeh')\n",
    "\n",
    "def quick_map(da, dims=['lon', 'lat'], redim_range=None, **user_options):\n",
    "    options = dict(cmap='viridis', colorbar=True,\n",
    "                   fig_size=300,\n",
    "                   projection=crs.Robinson(central_longitude=180))\n",
    "    options.update(user_options)\n",
    "    name = da.name\n",
    "    dataset = gv.Dataset(da)\n",
    "    image = (dataset.to(gv.Image, dims, dynamic=True)\n",
    "                       .options(**options))\n",
    "    if redim_range is not None:\n",
    "        image = image.redim.range(**{name: redim_range})\n",
    "\n",
    "    return gv.output(image * gf.coastline(), backend='matplotlib')"
   ]
  },
  {
   "cell_type": "markdown",
   "metadata": {},
   "source": [
    "### Amplitude of Diurnal Cycle"
   ]
  },
  {
   "cell_type": "code",
   "execution_count": null,
   "metadata": {},
   "outputs": [],
   "source": [
    "pr_diurnal_amplitude = (ds_diurnal.pr.max(dim='hour') -\n",
    "                        ds_diurnal.pr.min(dim='hour'))\n",
    "\n",
    "quick_map(pr_diurnal_amplitude, redim_range=(0, 1e-4))"
   ]
  },
  {
   "cell_type": "code",
   "execution_count": null,
   "metadata": {},
   "outputs": [],
   "source": [
    "pr_diurnal_amplitude.mean(dim='lon').transpose().plot(cbar_kwargs={'shrink': 0.5})\n",
    "plt.title('Amplitude of Diurnal Cycle');"
   ]
  },
  {
   "cell_type": "markdown",
   "metadata": {},
   "source": [
    "### Phase of Diurnal Cycle\n",
    "\n",
    "Colors show the hour of maximum precipitation.\n",
    "\n",
    "_TODO:_ use a proper 2D color wheel to visualize phase an amplitude in one figure."
   ]
  },
  {
   "cell_type": "code",
   "execution_count": null,
   "metadata": {},
   "outputs": [],
   "source": [
    "pr_diurnal_phase = 3*ds_diurnal.pr.argmax(dim='hour')\n",
    "quick_map(pr_diurnal_phase, redim_range=(0, 24), cmap='twilight',\n",
    "           title='Hour of Maximum Diurnal Precip')"
   ]
  },
  {
   "cell_type": "markdown",
   "metadata": {},
   "source": [
    "## Precipitation Intensity Histogram\n",
    "\n",
    "Here we examine the probability distribution of precipitation intensity and how it varies with latitude and time.\n",
    "Later we comapre this with GPCP observations. This could be an example of model validation."
   ]
  },
  {
   "cell_type": "code",
   "execution_count": null,
   "metadata": {},
   "outputs": [],
   "source": [
    "def xr_histogram(data, bins, dims, **kwargs):\n",
    "    \n",
    "    bins_c = 0.5 * (bins[1:] + bins[:-1]) \n",
    "    func = lambda x: np.histogram(x, bins=bins, **kwargs)[0] / x.size\n",
    "\n",
    "    output_dim_name = data.name + '_bin'\n",
    "    res = xr.apply_ufunc(func, data,\n",
    "                         input_core_dims=[dims],\n",
    "                         output_core_dims=[[output_dim_name]],\n",
    "                         output_dtypes=['f8'],\n",
    "                         output_sizes={output_dim_name: len(bins_c)},\n",
    "                         vectorize=True, dask='parallelized')\n",
    "    res[output_dim_name] = output_dim_name, bins_c\n",
    "    res[output_dim_name].attrs.update(data.attrs)\n",
    "    return res"
   ]
  },
  {
   "cell_type": "code",
   "execution_count": null,
   "metadata": {},
   "outputs": [],
   "source": [
    "bins = np.logspace(-8, -3, 100) \n",
    "def func(da):\n",
    "    da = da.chunk({'lat': 1, 'lon': None, 'time': None})\n",
    "    return xr_histogram(da, bins, ['lon', 'time'], density=False)\n",
    "pr_3hr_hist = ds.pr.groupby('time.year').apply(func)\n",
    "pr_3hr_hist"
   ]
  },
  {
   "cell_type": "code",
   "execution_count": null,
   "metadata": {},
   "outputs": [],
   "source": [
    "pr_3hr_hist.load();"
   ]
  },
  {
   "cell_type": "code",
   "execution_count": null,
   "metadata": {},
   "outputs": [],
   "source": [
    "quick_plot(pr_3hr_hist, ['pr_bin', 'lat'], cmap='OrRd',\n",
    "           logx=True, redim_range=(0, 0.04), tools=['hover'])"
   ]
  },
  {
   "cell_type": "code",
   "execution_count": null,
   "metadata": {},
   "outputs": [],
   "source": [
    "# this is a bit slow, ~1 minute\n",
    "# it's creating hundreds of thousands of dask tasks\n",
    "pr_daily = ds.pr.resample(time='1D').mean(dim='time')\n",
    "pr_daily"
   ]
  },
  {
   "cell_type": "code",
   "execution_count": null,
   "metadata": {},
   "outputs": [],
   "source": [
    "# this is even slower, takes ~3-4 minutes to show up on the scheduler\n",
    "# all the tasks have to be processed by the scheduler\n",
    "pr_daily_hist = pr_daily.groupby('time.year').apply(func)"
   ]
  },
  {
   "cell_type": "code",
   "execution_count": null,
   "metadata": {},
   "outputs": [],
   "source": [
    "pr_daily_hist.load();"
   ]
  },
  {
   "cell_type": "code",
   "execution_count": null,
   "metadata": {},
   "outputs": [],
   "source": [
    "quick_plot(pr_daily_hist, ['pr_bin', 'lat'], cmap='OrRd',\n",
    "           logx=True, redim_range=(0, 0.04), tools=['hover'])"
   ]
  },
  {
   "cell_type": "markdown",
   "metadata": {},
   "source": [
    "### Comparison with NCAR GPCP\n",
    "\n",
    "https://climatedataguide.ucar.edu/climate-data/gpcp-daily-global-precipitation-climatology-project"
   ]
  },
  {
   "cell_type": "code",
   "execution_count": null,
   "metadata": {},
   "outputs": [],
   "source": [
    "gpcp = master_cat.atmosphere.gpcp_cdr_daily_v1_3.to_dask()\n",
    "gpcp"
   ]
  },
  {
   "cell_type": "code",
   "execution_count": null,
   "metadata": {},
   "outputs": [],
   "source": [
    "gpcp.precip.units"
   ]
  },
  {
   "cell_type": "code",
   "execution_count": null,
   "metadata": {},
   "outputs": [],
   "source": [
    "gpcp_pr = (gpcp.precip / 86400).rename({'latitude': 'lat', 'longitude': 'lon'})\n",
    "gpcp_hist = func(gpcp_pr).load()\n",
    "gpcp_hist.precip_bin.attrs.update(pr_3hr_hist.pr_bin.attrs)"
   ]
  },
  {
   "cell_type": "code",
   "execution_count": null,
   "metadata": {},
   "outputs": [],
   "source": [
    "quick_plot(gpcp_hist, ['precip_bin', 'lat'], cmap='OrRd',\n",
    "           logx=True, redim_range=(0, 0.04), tools=['hover'])"
   ]
  },
  {
   "cell_type": "markdown",
   "metadata": {},
   "source": [
    "Equivalent figure directly from NCAR website.\n",
    "\n",
    "![ncar](https://climatedataguide.ucar.edu/sites/default/files/styles/node_key_figures_display/public/key_figures/climate_data_set/cdgbutterflygpcp.jpg?itok=RnJ_w-ge)"
   ]
  },
  {
   "cell_type": "code",
   "execution_count": null,
   "metadata": {},
   "outputs": [],
   "source": []
  }
 ],
 "metadata": {
  "kernelspec": {
   "display_name": "Python 3",
   "language": "python",
   "name": "python3"
  },
  "language_info": {
   "codemirror_mode": {
    "name": "ipython",
    "version": 3
   },
   "file_extension": ".py",
   "mimetype": "text/x-python",
   "name": "python",
   "nbconvert_exporter": "python",
   "pygments_lexer": "ipython3",
   "version": "3.6.7"
  }
 },
 "nbformat": 4,
 "nbformat_minor": 2
}
