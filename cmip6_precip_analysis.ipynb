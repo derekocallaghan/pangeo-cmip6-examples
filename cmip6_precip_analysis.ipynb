{
 "cells": [
  {
   "cell_type": "markdown",
   "metadata": {},
   "source": [
    "# CMIP6 Precip Analysis (3-hourly data)"
   ]
  },
  {
   "cell_type": "code",
   "execution_count": null,
   "metadata": {},
   "outputs": [],
   "source": [
    "import intake\n",
    "import xarray as xr\n",
    "from matplotlib import pyplot as plt\n",
    "import numpy as np\n",
    "%matplotlib inline\n",
    "plt.rcParams['figure.figsize'] = 12, 6"
   ]
  },
  {
   "cell_type": "code",
   "execution_count": null,
   "metadata": {},
   "outputs": [],
   "source": [
    "cat_url = 'https://raw.githubusercontent.com/pangeo-data/pangeo-datastore/master/intake-catalogs/master.yaml'\n",
    "master_cat = intake.Catalog(cat_url)\n",
    "list(master_cat)"
   ]
  },
  {
   "cell_type": "code",
   "execution_count": null,
   "metadata": {},
   "outputs": [],
   "source": [
    "cmip_cat = master_cat.cmip6.get()\n",
    "list(cmip_cat)"
   ]
  },
  {
   "cell_type": "code",
   "execution_count": null,
   "metadata": {},
   "outputs": [],
   "source": [
    "ds = cmip_cat['GISS-E2-1-G.historical.r1i1p1f1.pr'].to_dask()\n",
    "ds"
   ]
  },
  {
   "cell_type": "markdown",
   "metadata": {},
   "source": [
    "## Diurnal Cycle Analysis"
   ]
  },
  {
   "cell_type": "code",
   "execution_count": null,
   "metadata": {},
   "outputs": [],
   "source": [
    "def diurnal_cycle(ds):\n",
    "    return ds.groupby('time.hour').mean(dim='time')\n",
    "\n",
    "ds_diurnal = ds.groupby('time.year').apply(diurnal_cycle)\n",
    "ds_diurnal"
   ]
  },
  {
   "cell_type": "code",
   "execution_count": null,
   "metadata": {},
   "outputs": [],
   "source": [
    "from dask.distributed import Client, progress\n",
    "\n",
    "from dask_kubernetes import KubeCluster\n",
    "cluster = KubeCluster(n_workers=20)\n",
    "cluster"
   ]
  },
  {
   "cell_type": "code",
   "execution_count": null,
   "metadata": {},
   "outputs": [],
   "source": [
    "client = Client(cluster)\n",
    "ds_diurnal = ds_diurnal.persist(retries=4)"
   ]
  },
  {
   "cell_type": "code",
   "execution_count": null,
   "metadata": {},
   "outputs": [],
   "source": [
    "import holoviews as hv\n",
    "import geoviews as gv\n",
    "import geoviews.feature as gf\n",
    "import cartopy.crs as crs\n",
    "from holoviews.operation.datashader import regrid\n",
    "hv.extension('bokeh', 'matplotlib')\n",
    "\n",
    "def quick_plot(da, dims, redim_range=None, **user_options):\n",
    "    options = dict(cmap='viridis', colorbar=True,\n",
    "                   width=700, height=450)\n",
    "    options.update(user_options)\n",
    "    name = da.name\n",
    "    dataset = hv.Dataset(da)\n",
    "    image = (dataset.to(hv.QuadMesh, dims, dynamic=True)\n",
    "                       .options(**options))\n",
    "    if redim_range is not None:\n",
    "        image = image.redim.range(**{name: redim_range})\n",
    "\n",
    "    return hv.output(image, backend='bokeh')\n",
    "\n",
    "def quick_map(da, dims=['lon', 'lat'], redim_range=None, **user_options):\n",
    "    options = dict(cmap='viridis', colorbar=True,\n",
    "                   fig_size=300,\n",
    "                   projection=crs.Robinson(central_longitude=180))\n",
    "    options.update(user_options)\n",
    "    name = da.name\n",
    "    dataset = gv.Dataset(da)\n",
    "    image = (dataset.to(gv.Image, dims, dynamic=True)\n",
    "                       .options(**options))\n",
    "    if redim_range is not None:\n",
    "        image = image.redim.range(**{name: redim_range})\n",
    "\n",
    "    return gv.output(image * gf.coastline(), backend='matplotlib')"
   ]
  },
  {
   "cell_type": "markdown",
   "metadata": {},
   "source": [
    "### Amplitude of Diurnal Cycle"
   ]
  },
  {
   "cell_type": "code",
   "execution_count": null,
   "metadata": {},
   "outputs": [],
   "source": [
    "pr_diurnal_amplitude = (ds_diurnal.pr.max(dim='hour') -\n",
    "                        ds_diurnal.pr.min(dim='hour'))\n",
    "\n",
    "quick_map(pr_diurnal_amplitude, redim_range=(0, 1e-4))"
   ]
  },
  {
   "cell_type": "code",
   "execution_count": null,
   "metadata": {},
   "outputs": [],
   "source": [
    "pr_diurnal_amplitude.mean(dim='lon').transpose().plot(cbar_kwargs={'shrink': 0.5})\n",
    "plt.title('Amplitude of Diurnal Cycle');"
   ]
  },
  {
   "cell_type": "markdown",
   "metadata": {},
   "source": [
    "### Phase of Diurnal Cycle\n",
    "\n",
    "Colors show the hour of maximum precipitation.\n",
    "\n",
    "_TODO:_ use a proper 2D color wheel to visualize phase an amplitude in one figure."
   ]
  },
  {
   "cell_type": "code",
   "execution_count": null,
   "metadata": {},
   "outputs": [],
   "source": [
    "pr_diurnal_phase = 3*ds_diurnal.pr.argmax(dim='hour')\n",
    "quick_map(pr_diurnal_phase, redim_range=(0, 24), cmap='twilight',\n",
    "           title='Hour of Maximum Diurnal Precip')"
   ]
  },
  {
   "cell_type": "code",
   "execution_count": null,
   "metadata": {},
   "outputs": [],
   "source": [
    "ds.pr.data.size"
   ]
  },
  {
   "cell_type": "markdown",
   "metadata": {},
   "source": [
    "## Precipitation Intensity Histogram"
   ]
  },
  {
   "cell_type": "code",
   "execution_count": null,
   "metadata": {},
   "outputs": [],
   "source": [
    "def xr_histogram(data, bins, dims, **kwargs):\n",
    "    \n",
    "    bins_c = 0.5 * (bins[1:] + bins[:-1]) \n",
    "    func = lambda x: np.histogram(x, bins=bins, **kwargs)[0] / x.size\n",
    "\n",
    "    output_dim_name = data.name + '_bin'\n",
    "    res = xr.apply_ufunc(func, data,\n",
    "                         input_core_dims=[dims],\n",
    "                         output_core_dims=[[output_dim_name]],\n",
    "                         output_dtypes=['f8'],\n",
    "                         output_sizes={output_dim_name: len(bins_c)},\n",
    "                         vectorize=True, dask='parallelized')\n",
    "    res[output_dim_name] = output_dim_name, bins_c\n",
    "    res[output_dim_name].attrs.update(data.attrs)\n",
    "    return res"
   ]
  },
  {
   "cell_type": "code",
   "execution_count": null,
   "metadata": {},
   "outputs": [],
   "source": [
    "bins = np.logspace(-8, -3, 100) \n",
    "def func(da):\n",
    "    da = da.chunk({'lat': 1, 'lon': None, 'time': None})\n",
    "    return xr_histogram(da, bins, ['lon', 'time'], density=False)\n",
    "pr_3hr_hist = ds.pr.groupby('time.year').apply(func)\n",
    "pr_3hr_hist"
   ]
  },
  {
   "cell_type": "code",
   "execution_count": null,
   "metadata": {},
   "outputs": [],
   "source": [
    "pr_3hr_hist.load();"
   ]
  },
  {
   "cell_type": "code",
   "execution_count": null,
   "metadata": {},
   "outputs": [],
   "source": [
    "quick_plot(pr_3hr_hist, ['pr_bin', 'lat'], cmap='OrRd',\n",
    "           logx=True, redim_range=(0, 0.04), tools=['hover'])"
   ]
  },
  {
   "cell_type": "code",
   "execution_count": null,
   "metadata": {},
   "outputs": [],
   "source": [
    "# this is a bit slow, ~1 minute\n",
    "# it's creating hundreds of thousands of dask tasks\n",
    "pr_daily = ds.pr.resample(time='1D').mean(dim='time')\n",
    "pr_daily"
   ]
  },
  {
   "cell_type": "code",
   "execution_count": null,
   "metadata": {},
   "outputs": [],
   "source": [
    "# this is even slower, takes ~3-4 minutes to show up on the scheduler\n",
    "# all the tasks have to be processed by the scheduler\n",
    "pr_daily_hist = pr_daily.groupby('time.year').apply(func)"
   ]
  },
  {
   "cell_type": "code",
   "execution_count": null,
   "metadata": {},
   "outputs": [],
   "source": [
    "pr_daily_hist.load();"
   ]
  },
  {
   "cell_type": "code",
   "execution_count": null,
   "metadata": {},
   "outputs": [],
   "source": [
    "quick_plot(pr_daily_hist, ['pr_bin', 'lat'], cmap='OrRd',\n",
    "           logx=True, redim_range=(0, 0.04), tools=['hover'])"
   ]
  },
  {
   "cell_type": "markdown",
   "metadata": {},
   "source": [
    "### Comparison with NCAR GPCP\n",
    "\n",
    "https://climatedataguide.ucar.edu/climate-data/gpcp-daily-global-precipitation-climatology-project\n",
    "\n",
    "![ncar](https://climatedataguide.ucar.edu/sites/default/files/styles/node_key_figures_display/public/key_figures/climate_data_set/cdgbutterflygpcp.jpg?itok=RnJ_w-ge)"
   ]
  },
  {
   "cell_type": "markdown",
   "metadata": {},
   "source": [
    "### Direct Comparison to CPC\n",
    "\n",
    "_Work in Progress_\n",
    "\n",
    "This is not the right dataset. But GPCP daily has no opendap endpoint: https://data.nodc.noaa.gov/cgi-bin/iso?id=gov.noaa.ncdc:C00999. Just netCDF files over FTP."
   ]
  },
  {
   "cell_type": "code",
   "execution_count": null,
   "metadata": {},
   "outputs": [],
   "source": [
    "urls = [f'http://www.esrl.noaa.gov/psd/thredds/dodsC/Datasets/cpc_global_precip/precip.{year}.nc'\n",
    "        for year in range(1979, 2019)]\n",
    "cpc = xr.open_mfdataset(urls, parallel=True, chunks={'time': 'auto'})\n",
    "cpc"
   ]
  },
  {
   "cell_type": "code",
   "execution_count": null,
   "metadata": {},
   "outputs": [],
   "source": [
    "cpc.nbytes/1e9"
   ]
  },
  {
   "cell_type": "code",
   "execution_count": null,
   "metadata": {},
   "outputs": [],
   "source": [
    "cpc = cpc.persist(retries=5)"
   ]
  },
  {
   "cell_type": "code",
   "execution_count": null,
   "metadata": {},
   "outputs": [],
   "source": [
    "cpc.precip[0].plot()"
   ]
  },
  {
   "cell_type": "code",
   "execution_count": null,
   "metadata": {},
   "outputs": [],
   "source": [
    "mm_bins = np.logspace(-3, 4, 100) \n",
    "def func_mm(da):\n",
    "    da = da.chunk({'lat': 1, 'lon': None, 'time': None})\n",
    "    return xr_histogram(da, mm_bins, ['lon', 'time'], density=False)\n",
    "cpc_daily_hist = cpc.precip.groupby('time.year').apply(func_mm)\n",
    "cpc_daily_hist"
   ]
  },
  {
   "cell_type": "code",
   "execution_count": null,
   "metadata": {},
   "outputs": [],
   "source": [
    "cpc_daily_hist.load();"
   ]
  },
  {
   "cell_type": "code",
   "execution_count": null,
   "metadata": {},
   "outputs": [],
   "source": [
    "quick_plot(cpc_daily_hist, ['precip_bin', 'lat'], cmap='OrRd',\n",
    "           logx=True, tools=['hover'])"
   ]
  },
  {
   "cell_type": "code",
   "execution_count": null,
   "metadata": {},
   "outputs": [],
   "source": []
  }
 ],
 "metadata": {
  "kernelspec": {
   "display_name": "Python 3",
   "language": "python",
   "name": "python3"
  },
  "language_info": {
   "codemirror_mode": {
    "name": "ipython",
    "version": 3
   },
   "file_extension": ".py",
   "mimetype": "text/x-python",
   "name": "python",
   "nbconvert_exporter": "python",
   "pygments_lexer": "ipython3",
   "version": "3.6.7"
  }
 },
 "nbformat": 4,
 "nbformat_minor": 2
}
